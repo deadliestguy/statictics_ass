{
 "cells": [
  {
   "cell_type": "markdown",
   "id": "2d598234-769d-44d5-ac92-d5abbae010d2",
   "metadata": {},
   "source": [
    "PROBABILITY DISTRIBUTION FUNCTION"
   ]
  },
  {
   "cell_type": "code",
   "execution_count": 1,
   "id": "d6e75364-8468-4af0-bd05-a55555352f54",
   "metadata": {},
   "outputs": [],
   "source": [
    "# PDF -> CONTINIOUS VARIABLE \n",
    "# WIGHT AND HEIGHT OF THE CLASS\n",
    "# BELL CURVE / SYMETRICAL CURVE \n",
    "# NORMAL DISTRIBUTION "
   ]
  },
  {
   "cell_type": "code",
   "execution_count": 9,
   "id": "42569545-ed72-463f-945d-84111c91ec7f",
   "metadata": {},
   "outputs": [],
   "source": [
    "# NORMAL DISTRIBUTION PDF FUNCTION CALCULATE \n",
    "import math\n",
    "def cal_pdf(x , mean , std):\n",
    "    pie = 22.0/3\n",
    "    a = 1.0/(std*math.sqrt(2*pie))\n",
    "    b = math.exp(-1/2)\n",
    "    c = ((x-mean)/std)**2\n",
    "    return a*b*c\n",
    "    "
   ]
  },
  {
   "cell_type": "code",
   "execution_count": 10,
   "id": "af814a08-e585-48a7-82e1-084eef2e48c8",
   "metadata": {},
   "outputs": [
    {
     "data": {
      "text/plain": [
       "7.760382509840811"
      ]
     },
     "execution_count": 10,
     "metadata": {},
     "output_type": "execute_result"
    }
   ],
   "source": [
    "cal_pdf(10 , 3,1)"
   ]
  },
  {
   "cell_type": "code",
   "execution_count": null,
   "id": "09479843-6412-492e-85ce-1ea47bdc0a4d",
   "metadata": {},
   "outputs": [],
   "source": []
  }
 ],
 "metadata": {
  "kernelspec": {
   "display_name": "Python 3 (ipykernel)",
   "language": "python",
   "name": "python3"
  },
  "language_info": {
   "codemirror_mode": {
    "name": "ipython",
    "version": 3
   },
   "file_extension": ".py",
   "mimetype": "text/x-python",
   "name": "python",
   "nbconvert_exporter": "python",
   "pygments_lexer": "ipython3",
   "version": "3.10.8"
  }
 },
 "nbformat": 4,
 "nbformat_minor": 5
}
