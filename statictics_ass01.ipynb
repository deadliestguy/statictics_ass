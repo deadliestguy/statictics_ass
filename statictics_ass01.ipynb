{
 "cells": [
  {
   "cell_type": "code",
   "execution_count": 1,
   "id": "d4ca5c6d-9a8a-422d-a9cb-50b7d5688331",
   "metadata": {},
   "outputs": [],
   "source": [
    "# Q1. What is Statistics?\n",
    "# ans ->it is the science of collecting , organising and analysing data"
   ]
  },
  {
   "cell_type": "code",
   "execution_count": 2,
   "id": "13a7413a-fc9f-4197-85a0-3278d5a95bb0",
   "metadata": {},
   "outputs": [],
   "source": [
    "# Q2. Define the different types of statistics and give an example of when each type might be used.\n",
    "# ans-> 2 type \n",
    "# a)DESCRIPTIVE STATICTICS-> \n",
    "# i. data organise and sumerise kora hoi \n",
    "# ii. mean , median , mode \n",
    "# iii. std,variation\n",
    "# iv. hsitogram , pdf ,pmf \n",
    "\n",
    "# b)INFERENCIAL STATICTICS:\n",
    "# i. data analyse korey ekta conclusion e asa hoi \n",
    "# ii. samaple data and population data niye ana hoi \n",
    "# iii. chi plots , z test , t test , p value "
   ]
  },
  {
   "cell_type": "code",
   "execution_count": 3,
   "id": "0bda6fa7-874b-4a07-adb9-60e0ee1df1f6",
   "metadata": {},
   "outputs": [],
   "source": [
    "# What are the different types of data and Provide an example of each type of data.\n",
    "# ans -->\n",
    "#  DATA-> 2 TYPES , QUALITATIVE AND QUANTITATIVE\n",
    "# a) QUANTITATIVE DATA -> \n",
    "       # numerical data jetai math operation kora jai\n",
    "       #2 types ->1.continious -- float point includs \n",
    "                 #2.discrete -- only whole number \n",
    "# b)QULITATIVE DATA-->\n",
    "        # categorical data \n",
    "        # 2 type -> 1.nominal -> no ranking \n",
    "                    #2. ordinal -> ranking matter korey"
   ]
  },
  {
   "cell_type": "code",
   "execution_count": 4,
   "id": "8ed3b2fc-c632-4081-83c4-090f4fa6f24a",
   "metadata": {},
   "outputs": [],
   "source": [
    "# Categorise the following datasets with respect to quantitative and qualitative data types:\n",
    "# (i) Grading in exam: A+, A, B+, B, C+, C, D, E : qualitative -->nominal\n",
    "# (ii) Colour of mangoes: yellow, green, orange, red : qualitative -->nominal\n",
    "# (iii) Height data of a class: [178.9, 179, 179.5, 176, 177.2, 178.3, 175.8,...] :quantitative -->continioua\n",
    "# (iv) Number of mangoes exported by a farm: [500, 600, 478, 672, ...] :quantitative-->discrete"
   ]
  },
  {
   "cell_type": "code",
   "execution_count": null,
   "id": "65a1e319-4962-4796-8adc-807791ec612c",
   "metadata": {},
   "outputs": [],
   "source": []
  }
 ],
 "metadata": {
  "kernelspec": {
   "display_name": "Python 3 (ipykernel)",
   "language": "python",
   "name": "python3"
  },
  "language_info": {
   "codemirror_mode": {
    "name": "ipython",
    "version": 3
   },
   "file_extension": ".py",
   "mimetype": "text/x-python",
   "name": "python",
   "nbconvert_exporter": "python",
   "pygments_lexer": "ipython3",
   "version": "3.10.8"
  }
 },
 "nbformat": 4,
 "nbformat_minor": 5
}
